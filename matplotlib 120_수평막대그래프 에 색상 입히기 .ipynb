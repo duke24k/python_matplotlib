{
 "cells": [
  {
   "cell_type": "code",
   "execution_count": 2,
   "metadata": {
    "collapsed": true
   },
   "outputs": [],
   "source": [
    "import matplotlib.pyplot as plt"
   ]
  },
  {
   "cell_type": "code",
   "execution_count": 3,
   "metadata": {
    "collapsed": true
   },
   "outputs": [],
   "source": [
    "%matplotlib inline"
   ]
  },
  {
   "cell_type": "code",
   "execution_count": 4,
   "metadata": {
    "collapsed": true
   },
   "outputs": [],
   "source": [
    "data = [ 10,20,30,40,50]"
   ]
  },
  {
   "cell_type": "code",
   "execution_count": 5,
   "metadata": {},
   "outputs": [
    {
     "name": "stdout",
     "output_type": "stream",
     "text": [
      "Help on function barh in module matplotlib.pyplot:\n",
      "\n",
      "barh(*args, **kwargs)\n",
      "    Make a horizontal bar plot.\n",
      "    \n",
      "    Call signatures::\n",
      "    \n",
      "       bar(y, width, *, align='center', **kwargs)\n",
      "       bar(y, width, height, *, align='center', **kwargs)\n",
      "       bar(y, width, height, left, *, align='center', **kwargs)\n",
      "    \n",
      "    Make a horizontal bar plot with rectangles by default bounded by\n",
      "    \n",
      "    .. math::\n",
      "    \n",
      "       (left, left + width, y - height/2, y + height/2)\n",
      "    \n",
      "    (left, right, bottom and top edges) by default.  *y*, *width*,\n",
      "    *height*, and *left* can be either scalars or sequences.\n",
      "    \n",
      "    The *align* keyword-only argument controls if *y* is interpreted\n",
      "    as the center or the bottom edge of the rectangle.\n",
      "    \n",
      "    \n",
      "    Parameters\n",
      "    ----------\n",
      "    y : scalar or array-like\n",
      "        the y coordinate(s) of the bars\n",
      "    \n",
      "        *align* controls if *y* is the bar center (default)\n",
      "        or bottom edge.\n",
      "    \n",
      "    width : scalar or array-like\n",
      "        the width(s) of the bars\n",
      "    \n",
      "    height : sequence of scalars, optional, default: 0.8\n",
      "        the heights of the bars\n",
      "    \n",
      "    left : sequence of scalars\n",
      "        the x coordinates of the left sides of the bars\n",
      "    \n",
      "    align : {'center', 'edge'}, optional, default: 'center'\n",
      "        If 'center', interpret the *y* argument as the coordinates\n",
      "        of the centers of the bars.  If 'edge', aligns bars by\n",
      "        their bottom edges\n",
      "    \n",
      "        To align the bars on the top edge pass a negative\n",
      "        *height* and ``align='edge'``\n",
      "    \n",
      "    Returns\n",
      "    -------\n",
      "    `matplotlib.patches.Rectangle` instances.\n",
      "    \n",
      "    Other Parameters\n",
      "    ----------------\n",
      "    color : scalar or array-like, optional\n",
      "        the colors of the bars\n",
      "    \n",
      "    edgecolor : scalar or array-like, optional\n",
      "        the colors of the bar edges\n",
      "    \n",
      "    linewidth : scalar or array-like, optional, default: None\n",
      "        width of bar edge(s). If None, use default\n",
      "        linewidth; If 0, don't draw edges.\n",
      "    \n",
      "    tick_label : string or array-like, optional, default: None\n",
      "        the tick labels of the bars\n",
      "    \n",
      "    xerr : scalar or array-like, optional, default: None\n",
      "        if not None, will be used to generate errorbar(s) on the bar chart\n",
      "    \n",
      "    yerr : scalar or array-like, optional, default: None\n",
      "        if not None, will be used to generate errorbar(s) on the bar chart\n",
      "    \n",
      "    ecolor : scalar or array-like, optional, default: None\n",
      "        specifies the color of errorbar(s)\n",
      "    \n",
      "    capsize : scalar, optional\n",
      "       determines the length in points of the error bar caps\n",
      "       default: None, which will take the value from the\n",
      "       ``errorbar.capsize`` :data:`rcParam<matplotlib.rcParams>`.\n",
      "    \n",
      "    error_kw :\n",
      "        dictionary of kwargs to be passed to errorbar method. `ecolor` and\n",
      "        `capsize` may be specified here rather than as independent kwargs.\n",
      "    \n",
      "    log : boolean, optional, default: False\n",
      "        If true, sets the axis to be log scale\n",
      "    \n",
      "    See also\n",
      "    --------\n",
      "    bar: Plot a vertical bar plot.\n",
      "    \n",
      "    Notes\n",
      "    -----\n",
      "    The optional arguments *color*, *edgecolor*, *linewidth*,\n",
      "    *xerr*, and *yerr* can be either scalars or sequences of\n",
      "    length equal to the number of bars.  This enables you to use\n",
      "    bar as the basis for stacked bar charts, or candlestick plots.\n",
      "    Detail: *xerr* and *yerr* are passed directly to\n",
      "    :meth:`errorbar`, so they can also have shape 2xN for\n",
      "    independent specification of lower and upper errors.\n",
      "    \n",
      "    Other optional kwargs:\n",
      "    \n",
      "      agg_filter: unknown\n",
      "      alpha: float or None \n",
      "      animated: [True | False] \n",
      "      antialiased or aa: [True | False]  or None for default \n",
      "      capstyle: ['butt' | 'round' | 'projecting'] \n",
      "      clip_box: a :class:`matplotlib.transforms.Bbox` instance \n",
      "      clip_on: [True | False] \n",
      "      clip_path: [ (:class:`~matplotlib.path.Path`, :class:`~matplotlib.transforms.Transform`) | :class:`~matplotlib.patches.Patch` | None ] \n",
      "      color: matplotlib color spec\n",
      "      contains: a callable function \n",
      "      edgecolor or ec: mpl color spec, None, 'none', or 'auto' \n",
      "      facecolor or fc: mpl color spec, or None for default, or 'none' for no color \n",
      "      figure: a :class:`matplotlib.figure.Figure` instance \n",
      "      fill: [True | False] \n",
      "      gid: an id string \n",
      "      hatch: ['/' | '\\\\' | '|' | '-' | '+' | 'x' | 'o' | 'O' | '.' | '*'] \n",
      "      joinstyle: ['miter' | 'round' | 'bevel'] \n",
      "      label: string or anything printable with '%s' conversion. \n",
      "      linestyle or ls: ['solid' | 'dashed', 'dashdot', 'dotted' | (offset, on-off-dash-seq) | ``'-'`` | ``'--'`` | ``'-.'`` | ``':'`` | ``'None'`` | ``' '`` | ``''``]\n",
      "      linewidth or lw: float or None for default \n",
      "      path_effects: unknown\n",
      "      picker: [None|float|boolean|callable] \n",
      "      rasterized: [True | False | None] \n",
      "      sketch_params: unknown\n",
      "      snap: unknown\n",
      "      transform: :class:`~matplotlib.transforms.Transform` instance \n",
      "      url: a url string \n",
      "      visible: [True | False] \n",
      "      zorder: any number\n",
      "\n"
     ]
    }
   ],
   "source": [
    "help(plt.barh)"
   ]
  },
  {
   "cell_type": "markdown",
   "metadata": {},
   "source": [
    "## 수평 막대그래프 그리기"
   ]
  },
  {
   "cell_type": "code",
   "execution_count": 6,
   "metadata": {},
   "outputs": [
    {
     "data": {
      "text/plain": [
       "<Container object of 5 artists>"
      ]
     },
     "execution_count": 6,
     "metadata": {},
     "output_type": "execute_result"
    },
    {
     "data": {
      "image/png": "[encoded data removed]",
      "text/plain": [
       "<matplotlib.figure.Figure at 0x10c44f6d8>"
      ]
     },
     "metadata": {},
     "output_type": "display_data"
    }
   ],
   "source": [
    "plt.barh(range(len(data)),data,color='k')"
   ]
  },
  {
   "cell_type": "code",
   "execution_count": 9,
   "metadata": {},
   "outputs": [
    {
     "data": {
      "text/plain": [
       "<Container object of 5 artists>"
      ]
     },
     "execution_count": 9,
     "metadata": {},
     "output_type": "execute_result"
    },
    {
     "data": {
      "image/png": "[encoded data removed]",
      "text/plain": [
       "<matplotlib.figure.Figure at 0x10c5b4748>"
      ]
     },
     "metadata": {},
     "output_type": "display_data"
    }
   ],
   "source": [
    "plt.barh(range(len(data)),data, color='0.3')"
   ]
  },
  {
   "cell_type": "markdown",
   "metadata": {},
   "source": [
    "## 막대 그래프이 edgecolor를 샤용헤보기"
   ]
  },
  {
   "cell_type": "code",
   "execution_count": 15,
   "metadata": {},
   "outputs": [
    {
     "data": {
      "text/plain": [
       "<Container object of 5 artists>"
      ]
     },
     "execution_count": 15,
     "metadata": {},
     "output_type": "execute_result"
    },
    {
     "data": {
      "image/png": "[encoded data removed]",
      "text/plain": [
       "<matplotlib.figure.Figure at 0x10d7016a0>"
      ]
     },
     "metadata": {},
     "output_type": "display_data"
    }
   ],
   "source": [
    "plt.barh(range(len(data)),data, color='0.7', edgecolor='k')"
   ]
  },
  {
   "cell_type": "code",
   "execution_count": 14,
   "metadata": {},
   "outputs": [
    {
     "data": {
      "text/plain": [
       "<Container object of 5 artists>"
      ]
     },
     "execution_count": 14,
     "metadata": {},
     "output_type": "execute_result"
    },
    {
     "data": {
      "image/png": "[encoded data removed]",
      "text/plain": [
       "<matplotlib.figure.Figure at 0x10d908ef0>"
      ]
     },
     "metadata": {},
     "output_type": "display_data"
    }
   ],
   "source": [
    "plt.barh(range(len(data)),data, color='0.7', edgecolor=list(\"kkkkk\"))"
   ]
  },
  {
   "cell_type": "code",
   "execution_count": 13,
   "metadata": {},
   "outputs": [
    {
     "name": "stdout",
     "output_type": "stream",
     "text": [
      "Help on function barh in module matplotlib.pyplot:\n",
      "\n",
      "barh(*args, **kwargs)\n",
      "    Make a horizontal bar plot.\n",
      "    \n",
      "    Call signatures::\n",
      "    \n",
      "       bar(y, width, *, align='center', **kwargs)\n",
      "       bar(y, width, height, *, align='center', **kwargs)\n",
      "       bar(y, width, height, left, *, align='center', **kwargs)\n",
      "    \n",
      "    Make a horizontal bar plot with rectangles by default bounded by\n",
      "    \n",
      "    .. math::\n",
      "    \n",
      "       (left, left + width, y - height/2, y + height/2)\n",
      "    \n",
      "    (left, right, bottom and top edges) by default.  *y*, *width*,\n",
      "    *height*, and *left* can be either scalars or sequences.\n",
      "    \n",
      "    The *align* keyword-only argument controls if *y* is interpreted\n",
      "    as the center or the bottom edge of the rectangle.\n",
      "    \n",
      "    \n",
      "    Parameters\n",
      "    ----------\n",
      "    y : scalar or array-like\n",
      "        the y coordinate(s) of the bars\n",
      "    \n",
      "        *align* controls if *y* is the bar center (default)\n",
      "        or bottom edge.\n",
      "    \n",
      "    width : scalar or array-like\n",
      "        the width(s) of the bars\n",
      "    \n",
      "    height : sequence of scalars, optional, default: 0.8\n",
      "        the heights of the bars\n",
      "    \n",
      "    left : sequence of scalars\n",
      "        the x coordinates of the left sides of the bars\n",
      "    \n",
      "    align : {'center', 'edge'}, optional, default: 'center'\n",
      "        If 'center', interpret the *y* argument as the coordinates\n",
      "        of the centers of the bars.  If 'edge', aligns bars by\n",
      "        their bottom edges\n",
      "    \n",
      "        To align the bars on the top edge pass a negative\n",
      "        *height* and ``align='edge'``\n",
      "    \n",
      "    Returns\n",
      "    -------\n",
      "    `matplotlib.patches.Rectangle` instances.\n",
      "    \n",
      "    Other Parameters\n",
      "    ----------------\n",
      "    color : scalar or array-like, optional\n",
      "        the colors of the bars\n",
      "    \n",
      "    edgecolor : scalar or array-like, optional\n",
      "        the colors of the bar edges\n",
      "    \n",
      "    linewidth : scalar or array-like, optional, default: None\n",
      "        width of bar edge(s). If None, use default\n",
      "        linewidth; If 0, don't draw edges.\n",
      "    \n",
      "    tick_label : string or array-like, optional, default: None\n",
      "        the tick labels of the bars\n",
      "    \n",
      "    xerr : scalar or array-like, optional, default: None\n",
      "        if not None, will be used to generate errorbar(s) on the bar chart\n",
      "    \n",
      "    yerr : scalar or array-like, optional, default: None\n",
      "        if not None, will be used to generate errorbar(s) on the bar chart\n",
      "    \n",
      "    ecolor : scalar or array-like, optional, default: None\n",
      "        specifies the color of errorbar(s)\n",
      "    \n",
      "    capsize : scalar, optional\n",
      "       determines the length in points of the error bar caps\n",
      "       default: None, which will take the value from the\n",
      "       ``errorbar.capsize`` :data:`rcParam<matplotlib.rcParams>`.\n",
      "    \n",
      "    error_kw :\n",
      "        dictionary of kwargs to be passed to errorbar method. `ecolor` and\n",
      "        `capsize` may be specified here rather than as independent kwargs.\n",
      "    \n",
      "    log : boolean, optional, default: False\n",
      "        If true, sets the axis to be log scale\n",
      "    \n",
      "    See also\n",
      "    --------\n",
      "    bar: Plot a vertical bar plot.\n",
      "    \n",
      "    Notes\n",
      "    -----\n",
      "    The optional arguments *color*, *edgecolor*, *linewidth*,\n",
      "    *xerr*, and *yerr* can be either scalars or sequences of\n",
      "    length equal to the number of bars.  This enables you to use\n",
      "    bar as the basis for stacked bar charts, or candlestick plots.\n",
      "    Detail: *xerr* and *yerr* are passed directly to\n",
      "    :meth:`errorbar`, so they can also have shape 2xN for\n",
      "    independent specification of lower and upper errors.\n",
      "    \n",
      "    Other optional kwargs:\n",
      "    \n",
      "      agg_filter: unknown\n",
      "      alpha: float or None \n",
      "      animated: [True | False] \n",
      "      antialiased or aa: [True | False]  or None for default \n",
      "      capstyle: ['butt' | 'round' | 'projecting'] \n",
      "      clip_box: a :class:`matplotlib.transforms.Bbox` instance \n",
      "      clip_on: [True | False] \n",
      "      clip_path: [ (:class:`~matplotlib.path.Path`, :class:`~matplotlib.transforms.Transform`) | :class:`~matplotlib.patches.Patch` | None ] \n",
      "      color: matplotlib color spec\n",
      "      contains: a callable function \n",
      "      edgecolor or ec: mpl color spec, None, 'none', or 'auto' \n",
      "      facecolor or fc: mpl color spec, or None for default, or 'none' for no color \n",
      "      figure: a :class:`matplotlib.figure.Figure` instance \n",
      "      fill: [True | False] \n",
      "      gid: an id string \n",
      "      hatch: ['/' | '\\\\' | '|' | '-' | '+' | 'x' | 'o' | 'O' | '.' | '*'] \n",
      "      joinstyle: ['miter' | 'round' | 'bevel'] \n",
      "      label: string or anything printable with '%s' conversion. \n",
      "      linestyle or ls: ['solid' | 'dashed', 'dashdot', 'dotted' | (offset, on-off-dash-seq) | ``'-'`` | ``'--'`` | ``'-.'`` | ``':'`` | ``'None'`` | ``' '`` | ``''``]\n",
      "      linewidth or lw: float or None for default \n",
      "      path_effects: unknown\n",
      "      picker: [None|float|boolean|callable] \n",
      "      rasterized: [True | False | None] \n",
      "      sketch_params: unknown\n",
      "      snap: unknown\n",
      "      transform: :class:`~matplotlib.transforms.Transform` instance \n",
      "      url: a url string \n",
      "      visible: [True | False] \n",
      "      zorder: any number\n",
      "\n"
     ]
    }
   ],
   "source": [
    "help(plt.barh)"
   ]
  },
  {
   "cell_type": "code",
   "execution_count": null,
   "metadata": {
    "collapsed": true
   },
   "outputs": [],
   "source": []
  }
 ],
 "metadata": {
  "kernelspec": {
   "display_name": "Python 3",
   "language": "python",
   "name": "python3"
  },
  "language_info": {
   "codemirror_mode": {
    "name": "ipython",
    "version": 3
   },
   "file_extension": ".py",
   "mimetype": "text/x-python",
   "name": "python",
   "nbconvert_exporter": "python",
   "pygments_lexer": "ipython3",
   "version": "3.6.1"
  }
 },
 "nbformat": 4,
 "nbformat_minor": 2
}
