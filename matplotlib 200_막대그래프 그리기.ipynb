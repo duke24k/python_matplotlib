{
 "cells": [
  {
   "cell_type": "code",
   "execution_count": 1,
   "metadata": {
    "collapsed": true
   },
   "outputs": [],
   "source": [
    "import matplotlib.pyplot as plt"
   ]
  },
  {
   "cell_type": "code",
   "execution_count": 2,
   "metadata": {
    "collapsed": true
   },
   "outputs": [],
   "source": [
    "%matplotlib inline"
   ]
  },
  {
   "cell_type": "code",
   "execution_count": 33,
   "metadata": {
    "collapsed": true
   },
   "outputs": [],
   "source": [
    "data = [10,20,30,40,60]\n"
   ]
  },
  {
   "cell_type": "markdown",
   "metadata": {},
   "source": [
    "## 막대그래프 그리기"
   ]
  },
  {
   "cell_type": "code",
   "execution_count": 6,
   "metadata": {},
   "outputs": [
    {
     "name": "stdout",
     "output_type": "stream",
     "text": [
      "Help on function bar in module matplotlib.pyplot:\n",
      "\n",
      "bar(*args, **kwargs)\n",
      "    Make a bar plot.\n",
      "    \n",
      "    Call signatures::\n",
      "    \n",
      "       bar(x, height, *, align='center', **kwargs)\n",
      "       bar(x, height, width, *, align='center', **kwargs)\n",
      "       bar(x, height, width, bottom, *, align='center', **kwargs)\n",
      "    \n",
      "    Make a bar plot with rectangles bounded by\n",
      "    \n",
      "    .. math::\n",
      "    \n",
      "       (x - width/2, x + width/2, bottom, bottom + height)\n",
      "    \n",
      "    (left, right, bottom and top edges) by default.  *x*,\n",
      "    *height*, *width*, and *bottom* can be either scalars or\n",
      "    sequences.\n",
      "    \n",
      "    The *align* and *orientation* kwargs control the interpretation of *x*\n",
      "    and *bottom*\n",
      "    \n",
      "    The *align* keyword-only argument controls if *x* is interpreted\n",
      "    as the center or the left edge of the rectangle.\n",
      "    \n",
      "    Parameters\n",
      "    ----------\n",
      "    x : sequence of scalars\n",
      "        the x coordinates of the bars.\n",
      "    \n",
      "        *align* controls if *x* is the bar center (default) or\n",
      "        left edge.\n",
      "    \n",
      "    height : scalar or sequence of scalars\n",
      "        the height(s) of the bars\n",
      "    \n",
      "    width : scalar or array-like, optional\n",
      "        the width(s) of the bars\n",
      "        default: 0.8\n",
      "    \n",
      "    bottom : scalar or array-like, optional\n",
      "        the y coordinate(s) of the bars\n",
      "        default: None\n",
      "    \n",
      "    align : {'center', 'edge'}, optional, default: 'center'\n",
      "        If 'center', interpret the *x* argument as the coordinates\n",
      "        of the centers of the bars.  If 'edge', aligns bars by\n",
      "        their left edges\n",
      "    \n",
      "        To align the bars on the right edge pass a negative\n",
      "        *width* and ``align='edge'``\n",
      "    \n",
      "    Returns\n",
      "    -------\n",
      "    bars : matplotlib.container.BarContainer\n",
      "        Container with all of the bars + errorbars\n",
      "    \n",
      "    Other Parameters\n",
      "    ----------------\n",
      "    color : scalar or array-like, optional\n",
      "        the colors of the bar faces\n",
      "    \n",
      "    edgecolor : scalar or array-like, optional\n",
      "        the colors of the bar edges\n",
      "    \n",
      "    linewidth : scalar or array-like, optional\n",
      "        width of bar edge(s). If None, use default\n",
      "        linewidth; If 0, don't draw edges.\n",
      "        default: None\n",
      "    \n",
      "    tick_label : string or array-like, optional\n",
      "        the tick labels of the bars\n",
      "        default: None\n",
      "    \n",
      "    xerr : scalar or array-like, optional\n",
      "        if not None, will be used to generate errorbar(s) on the bar chart\n",
      "        default: None\n",
      "    \n",
      "    yerr : scalar or array-like, optional\n",
      "        if not None, will be used to generate errorbar(s) on the bar chart\n",
      "        default: None\n",
      "    \n",
      "    ecolor : scalar or array-like, optional\n",
      "        specifies the color of errorbar(s)\n",
      "        default: None\n",
      "    \n",
      "    capsize : scalar, optional\n",
      "       determines the length in points of the error bar caps\n",
      "       default: None, which will take the value from the\n",
      "       ``errorbar.capsize`` :data:`rcParam<matplotlib.rcParams>`.\n",
      "    \n",
      "    error_kw : dict, optional\n",
      "        dictionary of kwargs to be passed to errorbar method. *ecolor* and\n",
      "        *capsize* may be specified here rather than as independent kwargs.\n",
      "    \n",
      "    log : boolean, optional\n",
      "        If true, sets the axis to be log scale.\n",
      "        default: False\n",
      "    \n",
      "    orientation : {'vertical',  'horizontal'}, optional\n",
      "    \n",
      "        This is for internal use, please do not directly use this,\n",
      "        call `barh` instead.\n",
      "    \n",
      "        The orientation of the bars.\n",
      "    \n",
      "    See also\n",
      "    --------\n",
      "    barh: Plot a horizontal bar plot.\n",
      "    \n",
      "    Notes\n",
      "    -----\n",
      "    The optional arguments *color*, *edgecolor*, *linewidth*,\n",
      "    *xerr*, and *yerr* can be either scalars or sequences of\n",
      "    length equal to the number of bars.  This enables you to use\n",
      "    bar as the basis for stacked bar charts, or candlestick plots.\n",
      "    Detail: *xerr* and *yerr* are passed directly to\n",
      "    :meth:`errorbar`, so they can also have shape 2xN for\n",
      "    independent specification of lower and upper errors.\n",
      "    \n",
      "    Other optional kwargs:\n",
      "    \n",
      "      agg_filter: unknown\n",
      "      alpha: float or None \n",
      "      animated: [True | False] \n",
      "      antialiased or aa: [True | False]  or None for default \n",
      "      capstyle: ['butt' | 'round' | 'projecting'] \n",
      "      clip_box: a :class:`matplotlib.transforms.Bbox` instance \n",
      "      clip_on: [True | False] \n",
      "      clip_path: [ (:class:`~matplotlib.path.Path`, :class:`~matplotlib.transforms.Transform`) | :class:`~matplotlib.patches.Patch` | None ] \n",
      "      color: matplotlib color spec\n",
      "      contains: a callable function \n",
      "      edgecolor or ec: mpl color spec, None, 'none', or 'auto' \n",
      "      facecolor or fc: mpl color spec, or None for default, or 'none' for no color \n",
      "      figure: a :class:`matplotlib.figure.Figure` instance \n",
      "      fill: [True | False] \n",
      "      gid: an id string \n",
      "      hatch: ['/' | '\\\\' | '|' | '-' | '+' | 'x' | 'o' | 'O' | '.' | '*'] \n",
      "      joinstyle: ['miter' | 'round' | 'bevel'] \n",
      "      label: string or anything printable with '%s' conversion. \n",
      "      linestyle or ls: ['solid' | 'dashed', 'dashdot', 'dotted' | (offset, on-off-dash-seq) | ``'-'`` | ``'--'`` | ``'-.'`` | ``':'`` | ``'None'`` | ``' '`` | ``''``]\n",
      "      linewidth or lw: float or None for default \n",
      "      path_effects: unknown\n",
      "      picker: [None|float|boolean|callable] \n",
      "      rasterized: [True | False | None] \n",
      "      sketch_params: unknown\n",
      "      snap: unknown\n",
      "      transform: :class:`~matplotlib.transforms.Transform` instance \n",
      "      url: a url string \n",
      "      visible: [True | False] \n",
      "      zorder: any number \n",
      "    \n",
      "    .. note::\n",
      "        In addition to the above described arguments, this function can take a\n",
      "        **data** keyword argument. If such a **data** argument is given, the\n",
      "        following arguments are replaced by **data[<arg>]**:\n",
      "    \n",
      "        * All arguments with the following names: 'bottom', 'color', 'ecolor', 'edgecolor', 'height', 'left', 'linewidth', 'tick_label', 'width', 'x', 'xerr', 'y', 'yerr'.\n",
      "        * All positional arguments.\n",
      "\n"
     ]
    }
   ],
   "source": [
    "help(plt.bar)"
   ]
  },
  {
   "cell_type": "code",
   "execution_count": 34,
   "metadata": {},
   "outputs": [
    {
     "data": {
      "text/plain": [
       "<Container object of 5 artists>"
      ]
     },
     "execution_count": 34,
     "metadata": {},
     "output_type": "execute_result"
    },
    {
     "data": {
      "image/png": "[encoded data removed]",
      "text/plain": [
       "<matplotlib.figure.Figure at 0x10b0e3ac8>"
      ]
     },
     "metadata": {},
     "output_type": "display_data"
    }
   ],
   "source": [
    "plt.bar(range(len(data)),data)"
   ]
  },
  {
   "cell_type": "markdown",
   "metadata": {},
   "source": [
    "### 막대 그래프 폭 조정하기"
   ]
  },
  {
   "cell_type": "code",
   "execution_count": 35,
   "metadata": {},
   "outputs": [
    {
     "data": {
      "text/plain": [
       "<Container object of 5 artists>"
      ]
     },
     "execution_count": 35,
     "metadata": {},
     "output_type": "execute_result"
    },
    {
     "data": {
      "image/png": "[encoded data removed]",
      "text/plain": [
       "<matplotlib.figure.Figure at 0x10ac63be0>"
      ]
     },
     "metadata": {},
     "output_type": "display_data"
    }
   ],
   "source": [
    "plt.bar(range(len(data)),data, width=1.0)"
   ]
  },
  {
   "cell_type": "code",
   "execution_count": 36,
   "metadata": {},
   "outputs": [
    {
     "data": {
      "text/plain": [
       "<Container object of 5 artists>"
      ]
     },
     "execution_count": 36,
     "metadata": {},
     "output_type": "execute_result"
    },
    {
     "data": {
      "image/png": "[encoded data removed]",
      "text/plain": [
       "<matplotlib.figure.Figure at 0x10b3251d0>"
      ]
     },
     "metadata": {},
     "output_type": "display_data"
    }
   ],
   "source": [
    "plt.bar(range(len(data)),data, width=0.8)"
   ]
  },
  {
   "cell_type": "code",
   "execution_count": null,
   "metadata": {
    "collapsed": true
   },
   "outputs": [],
   "source": []
  }
 ],
 "metadata": {
  "kernelspec": {
   "display_name": "Python 3",
   "language": "python",
   "name": "python3"
  },
  "language_info": {
   "codemirror_mode": {
    "name": "ipython",
    "version": 3
   },
   "file_extension": ".py",
   "mimetype": "text/x-python",
   "name": "python",
   "nbconvert_exporter": "python",
   "pygments_lexer": "ipython3",
   "version": "3.6.1"
  }
 },
 "nbformat": 4,
 "nbformat_minor": 2
}
