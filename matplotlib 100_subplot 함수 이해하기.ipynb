{
 "cells": [
  {
   "cell_type": "code",
   "execution_count": 1,
   "metadata": {
    "collapsed": true
   },
   "outputs": [],
   "source": [
    "import pandas as pd\n",
    "import numpy as np"
   ]
  },
  {
   "cell_type": "code",
   "execution_count": 2,
   "metadata": {
    "collapsed": true
   },
   "outputs": [],
   "source": [
    "import matplotlib.pyplot as plt"
   ]
  },
  {
   "cell_type": "code",
   "execution_count": 3,
   "metadata": {
    "collapsed": true
   },
   "outputs": [],
   "source": [
    "%matplotlib inline"
   ]
  },
  {
   "cell_type": "markdown",
   "metadata": {},
   "source": [
    "## subplots 함수 파라미터"
   ]
  },
  {
   "cell_type": "code",
   "execution_count": 14,
   "metadata": {},
   "outputs": [
    {
     "name": "stdout",
     "output_type": "stream",
     "text": [
      "Help on function subplots in module matplotlib.pyplot:\n",
      "\n",
      "subplots(nrows=1, ncols=1, sharex=False, sharey=False, squeeze=True, subplot_kw=None, gridspec_kw=None, **fig_kw)\n",
      "    Create a figure and a set of subplots\n",
      "    \n",
      "    This utility wrapper makes it convenient to create common layouts of\n",
      "    subplots, including the enclosing figure object, in a single call.\n",
      "    \n",
      "    Parameters\n",
      "    ----------\n",
      "    nrows, ncols : int, optional, default: 1\n",
      "        Number of rows/columns of the subplot grid.\n",
      "    \n",
      "    sharex, sharey : bool or {'none', 'all', 'row', 'col'}, default: False\n",
      "        Controls sharing of properties among x (`sharex`) or y (`sharey`)\n",
      "        axes:\n",
      "    \n",
      "            - True or 'all': x- or y-axis will be shared among all\n",
      "              subplots.\n",
      "            - False or 'none': each subplot x- or y-axis will be\n",
      "              independent.\n",
      "            - 'row': each subplot row will share an x- or y-axis.\n",
      "            - 'col': each subplot column will share an x- or y-axis.\n",
      "    \n",
      "        When subplots have a shared x-axis along a column, only the x tick\n",
      "        labels of the bottom subplot are visible.  Similarly, when subplots\n",
      "        have a shared y-axis along a row, only the y tick labels of the first\n",
      "        column subplot are visible.\n",
      "    \n",
      "    squeeze : bool, optional, default: True\n",
      "        - If True, extra dimensions are squeezed out from the returned Axes\n",
      "          object:\n",
      "    \n",
      "            - if only one subplot is constructed (nrows=ncols=1), the\n",
      "              resulting single Axes object is returned as a scalar.\n",
      "            - for Nx1 or 1xN subplots, the returned object is a 1D numpy\n",
      "              object array of Axes objects are returned as numpy 1D arrays.\n",
      "            - for NxM, subplots with N>1 and M>1 are returned as a 2D arrays.\n",
      "    \n",
      "        - If False, no squeezing at all is done: the returned Axes object is\n",
      "          always a 2D array containing Axes instances, even if it ends up\n",
      "          being 1x1.\n",
      "    \n",
      "    subplot_kw : dict, optional\n",
      "        Dict with keywords passed to the\n",
      "        :meth:`~matplotlib.figure.Figure.add_subplot` call used to create each\n",
      "        subplot.\n",
      "    \n",
      "    gridspec_kw : dict, optional\n",
      "        Dict with keywords passed to the\n",
      "        :class:`~matplotlib.gridspec.GridSpec` constructor used to create the\n",
      "        grid the subplots are placed on.\n",
      "    \n",
      "    **fig_kw :\n",
      "        All additional keyword arguments are passed to the :func:`figure` call.\n",
      "    \n",
      "    Returns\n",
      "    -------\n",
      "    fig : :class:`matplotlib.figure.Figure` object\n",
      "    \n",
      "    ax : Axes object or array of Axes objects.\n",
      "    \n",
      "        ax can be either a single :class:`matplotlib.axes.Axes` object or an\n",
      "        array of Axes objects if more than one subplot was created.  The\n",
      "        dimensions of the resulting array can be controlled with the squeeze\n",
      "        keyword, see above.\n",
      "    \n",
      "    Examples\n",
      "    --------\n",
      "    First create some toy data:\n",
      "    \n",
      "    >>> x = np.linspace(0, 2*np.pi, 400)\n",
      "    >>> y = np.sin(x**2)\n",
      "    \n",
      "    Creates just a figure and only one subplot\n",
      "    \n",
      "    >>> fig, ax = plt.subplots()\n",
      "    >>> ax.plot(x, y)\n",
      "    >>> ax.set_title('Simple plot')\n",
      "    \n",
      "    Creates two subplots and unpacks the output array immediately\n",
      "    \n",
      "    >>> f, (ax1, ax2) = plt.subplots(1, 2, sharey=True)\n",
      "    >>> ax1.plot(x, y)\n",
      "    >>> ax1.set_title('Sharing Y axis')\n",
      "    >>> ax2.scatter(x, y)\n",
      "    \n",
      "    Creates four polar axes, and accesses them through the returned array\n",
      "    \n",
      "    >>> fig, axes = plt.subplots(2, 2, subplot_kw=dict(polar=True))\n",
      "    >>> axes[0, 0].plot(x, y)\n",
      "    >>> axes[1, 1].scatter(x, y)\n",
      "    \n",
      "    Share a X axis with each column of subplots\n",
      "    \n",
      "    >>> plt.subplots(2, 2, sharex='col')\n",
      "    \n",
      "    Share a Y axis with each row of subplots\n",
      "    \n",
      "    >>> plt.subplots(2, 2, sharey='row')\n",
      "    \n",
      "    Share both X and Y axes with all subplots\n",
      "    \n",
      "    >>> plt.subplots(2, 2, sharex='all', sharey='all')\n",
      "    \n",
      "    Note that this is the same as\n",
      "    \n",
      "    >>> plt.subplots(2, 2, sharex=True, sharey=True)\n",
      "    \n",
      "    See Also\n",
      "    --------\n",
      "    figure\n",
      "    subplot\n",
      "\n"
     ]
    }
   ],
   "source": [
    "help(plt.subplots)"
   ]
  },
  {
   "cell_type": "markdown",
   "metadata": {},
   "source": [
    "### nrows : 서브플롯의 행의 수"
   ]
  },
  {
   "cell_type": "markdown",
   "metadata": {},
   "source": [
    "### ncols : 서브플롯의 열의 수"
   ]
  },
  {
   "cell_type": "markdown",
   "metadata": {},
   "source": [
    "### sharex, sharey는 서브플롯의 눈금\n",
    "\n",
    "    실제 조정은 xlim, ylim으로 적용"
   ]
  },
  {
   "cell_type": "markdown",
   "metadata": {},
   "source": [
    "## 히스토그램으로 그리기"
   ]
  },
  {
   "cell_type": "code",
   "execution_count": 5,
   "metadata": {},
   "outputs": [
    {
     "data": {
      "image/png": "[encoded data removed]",
      "text/plain": [
       "<matplotlib.figure.Figure at 0x115335d30>"
      ]
     },
     "metadata": {},
     "output_type": "display_data"
    }
   ],
   "source": [
    "fig, axes = plt.subplots(2,2, sharex=True, sharey=True)\n",
    "\n",
    "for i in range(2) :\n",
    "    for j in range(2) :\n",
    "        axes[i,j].hist(np.random.randn(500), bins=50, color='k', alpha=0.5)\n",
    "        \n",
    "plt.subplots_adjust(wspace=0, hspace=0)"
   ]
  },
  {
   "cell_type": "markdown",
   "metadata": {},
   "source": [
    "## 전체 그림을 Figure 클래스의 객체"
   ]
  },
  {
   "cell_type": "code",
   "execution_count": 12,
   "metadata": {},
   "outputs": [
    {
     "data": {
      "text/plain": [
       "matplotlib.figure.Figure"
      ]
     },
     "execution_count": 12,
     "metadata": {},
     "output_type": "execute_result"
    }
   ],
   "source": [
    "type(fig)"
   ]
  },
  {
   "cell_type": "code",
   "execution_count": 6,
   "metadata": {},
   "outputs": [
    {
     "data": {
      "image/png": "[encoded data removed]",
      "text/plain": [
       "<matplotlib.figure.Figure at 0x115335d30>"
      ]
     },
     "execution_count": 6,
     "metadata": {},
     "output_type": "execute_result"
    }
   ],
   "source": [
    "fig"
   ]
  },
  {
   "cell_type": "markdown",
   "metadata": {},
   "source": [
    "## fig 내에는 axes 로 내부에 AxesSubplot으로 처리"
   ]
  },
  {
   "cell_type": "code",
   "execution_count": 13,
   "metadata": {},
   "outputs": [
    {
     "data": {
      "text/plain": [
       "[<matplotlib.axes._subplots.AxesSubplot at 0x11531efd0>,\n",
       " <matplotlib.axes._subplots.AxesSubplot at 0x115282b70>,\n",
       " <matplotlib.axes._subplots.AxesSubplot at 0x1152bd898>,\n",
       " <matplotlib.axes._subplots.AxesSubplot at 0x115412668>]"
      ]
     },
     "execution_count": 13,
     "metadata": {},
     "output_type": "execute_result"
    }
   ],
   "source": [
    "fig.axes"
   ]
  },
  {
   "cell_type": "code",
   "execution_count": 7,
   "metadata": {},
   "outputs": [
    {
     "data": {
      "text/plain": [
       "array([[<matplotlib.axes._subplots.AxesSubplot object at 0x11531efd0>,\n",
       "        <matplotlib.axes._subplots.AxesSubplot object at 0x115282b70>],\n",
       "       [<matplotlib.axes._subplots.AxesSubplot object at 0x1152bd898>,\n",
       "        <matplotlib.axes._subplots.AxesSubplot object at 0x115412668>]], dtype=object)"
      ]
     },
     "execution_count": 7,
     "metadata": {},
     "output_type": "execute_result"
    }
   ],
   "source": [
    "axes"
   ]
  },
  {
   "cell_type": "code",
   "execution_count": 8,
   "metadata": {},
   "outputs": [
    {
     "data": {
      "text/plain": [
       "<matplotlib.axes._subplots.AxesSubplot at 0x11531efd0>"
      ]
     },
     "execution_count": 8,
     "metadata": {},
     "output_type": "execute_result"
    }
   ],
   "source": [
    "axes[0,0]"
   ]
  },
  {
   "cell_type": "code",
   "execution_count": 9,
   "metadata": {},
   "outputs": [
    {
     "data": {
      "text/plain": [
       "<matplotlib.axes._subplots.AxesSubplot at 0x115282b70>"
      ]
     },
     "execution_count": 9,
     "metadata": {},
     "output_type": "execute_result"
    }
   ],
   "source": [
    "axes[0,1]"
   ]
  },
  {
   "cell_type": "code",
   "execution_count": 10,
   "metadata": {},
   "outputs": [
    {
     "data": {
      "text/plain": [
       "<matplotlib.axes._subplots.AxesSubplot at 0x1152bd898>"
      ]
     },
     "execution_count": 10,
     "metadata": {},
     "output_type": "execute_result"
    }
   ],
   "source": [
    "axes[1,0]"
   ]
  },
  {
   "cell_type": "code",
   "execution_count": 11,
   "metadata": {},
   "outputs": [
    {
     "data": {
      "text/plain": [
       "<matplotlib.axes._subplots.AxesSubplot at 0x115412668>"
      ]
     },
     "execution_count": 11,
     "metadata": {},
     "output_type": "execute_result"
    }
   ],
   "source": [
    "axes[1,1]"
   ]
  },
  {
   "cell_type": "code",
   "execution_count": null,
   "metadata": {
    "collapsed": true
   },
   "outputs": [],
   "source": []
  }
 ],
 "metadata": {
  "kernelspec": {
   "display_name": "Python 3",
   "language": "python",
   "name": "python3"
  },
  "language_info": {
   "codemirror_mode": {
    "name": "ipython",
    "version": 3
   },
   "file_extension": ".py",
   "mimetype": "text/x-python",
   "name": "python",
   "nbconvert_exporter": "python",
   "pygments_lexer": "ipython3",
   "version": "3.6.1"
  }
 },
 "nbformat": 4,
 "nbformat_minor": 2
}
