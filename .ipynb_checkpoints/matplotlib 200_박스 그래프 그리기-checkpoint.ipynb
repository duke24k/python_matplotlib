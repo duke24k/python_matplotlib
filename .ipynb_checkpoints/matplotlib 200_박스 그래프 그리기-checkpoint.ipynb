{
 "cells": [
  {
   "cell_type": "code",
   "execution_count": 1,
   "metadata": {
    "collapsed": true
   },
   "outputs": [],
   "source": [
    "import matplotlib.pyplot as plt"
   ]
  },
  {
   "cell_type": "code",
   "execution_count": 2,
   "metadata": {
    "collapsed": true
   },
   "outputs": [],
   "source": [
    "%matplotlib inline"
   ]
  },
  {
   "cell_type": "code",
   "execution_count": 3,
   "metadata": {
    "collapsed": true
   },
   "outputs": [],
   "source": [
    "import numpy as np"
   ]
  },
  {
   "cell_type": "code",
   "execution_count": 4,
   "metadata": {
    "collapsed": true
   },
   "outputs": [],
   "source": [
    "a = np.random.randn(100)"
   ]
  },
  {
   "cell_type": "markdown",
   "metadata": {},
   "source": [
    "## 정규분포의 값을 가지고 처리. 실제 평균은 0이고 빨간색 줄을 표시한다"
   ]
  },
  {
   "cell_type": "code",
   "execution_count": 5,
   "metadata": {},
   "outputs": [
    {
     "data": {
      "text/plain": [
       "{'boxes': [<matplotlib.lines.Line2D at 0x11424e748>],\n",
       " 'caps': [<matplotlib.lines.Line2D at 0x114260208>,\n",
       "  <matplotlib.lines.Line2D at 0x114260630>],\n",
       " 'fliers': [<matplotlib.lines.Line2D at 0x114260ef0>],\n",
       " 'means': [],\n",
       " 'medians': [<matplotlib.lines.Line2D at 0x114260a90>],\n",
       " 'whiskers': [<matplotlib.lines.Line2D at 0x11424e908>,\n",
       "  <matplotlib.lines.Line2D at 0x11424eda0>]}"
      ]
     },
     "execution_count": 5,
     "metadata": {},
     "output_type": "execute_result"
    },
    {
     "data": {
      "image/png": "[encoded data removed]",
      "text/plain": [
       "<matplotlib.figure.Figure at 0x113ffd2b0>"
      ]
     },
     "metadata": {},
     "output_type": "display_data"
    }
   ],
   "source": [
    "plt.boxplot(a)"
   ]
  },
  {
   "cell_type": "code",
   "execution_count": 6,
   "metadata": {},
   "outputs": [
    {
     "data": {
      "text/plain": [
       "-0.033735980823916059"
      ]
     },
     "execution_count": 6,
     "metadata": {},
     "output_type": "execute_result"
    }
   ],
   "source": [
    "a.mean()"
   ]
  },
  {
   "cell_type": "markdown",
   "metadata": {},
   "source": [
    "## 2차원 배열일 경우는 열별로 계산된 그래프가 만들어진다."
   ]
  },
  {
   "cell_type": "code",
   "execution_count": 7,
   "metadata": {
    "collapsed": true
   },
   "outputs": [],
   "source": [
    "b = np.random.randn(100,5)"
   ]
  },
  {
   "cell_type": "code",
   "execution_count": 8,
   "metadata": {},
   "outputs": [
    {
     "data": {
      "text/plain": [
       "{'boxes': [<matplotlib.lines.Line2D at 0x1142a1c18>,\n",
       "  <matplotlib.lines.Line2D at 0x1142b3860>,\n",
       "  <matplotlib.lines.Line2D at 0x1142c37b8>,\n",
       "  <matplotlib.lines.Line2D at 0x1142d56a0>,\n",
       "  <matplotlib.lines.Line2D at 0x1142d05c0>],\n",
       " 'caps': [<matplotlib.lines.Line2D at 0x1142ac710>,\n",
       "  <matplotlib.lines.Line2D at 0x1142acb70>,\n",
       "  <matplotlib.lines.Line2D at 0x1142bd5f8>,\n",
       "  <matplotlib.lines.Line2D at 0x1142bda58>,\n",
       "  <matplotlib.lines.Line2D at 0x1142cb518>,\n",
       "  <matplotlib.lines.Line2D at 0x1142cb978>,\n",
       "  <matplotlib.lines.Line2D at 0x1143b4438>,\n",
       "  <matplotlib.lines.Line2D at 0x1143b4898>,\n",
       "  <matplotlib.lines.Line2D at 0x1143c5358>,\n",
       "  <matplotlib.lines.Line2D at 0x1143c57b8>],\n",
       " 'fliers': [<matplotlib.lines.Line2D at 0x1142b3438>,\n",
       "  <matplotlib.lines.Line2D at 0x1142c3358>,\n",
       "  <matplotlib.lines.Line2D at 0x1142d5278>,\n",
       "  <matplotlib.lines.Line2D at 0x1142d0198>,\n",
       "  <matplotlib.lines.Line2D at 0x1143ce0b8>],\n",
       " 'means': [],\n",
       " 'medians': [<matplotlib.lines.Line2D at 0x1142acf98>,\n",
       "  <matplotlib.lines.Line2D at 0x1142bdeb8>,\n",
       "  <matplotlib.lines.Line2D at 0x1142cbdd8>,\n",
       "  <matplotlib.lines.Line2D at 0x1143b4cf8>,\n",
       "  <matplotlib.lines.Line2D at 0x1143c5c18>],\n",
       " 'whiskers': [<matplotlib.lines.Line2D at 0x1142a1d68>,\n",
       "  <matplotlib.lines.Line2D at 0x1142ac2b0>,\n",
       "  <matplotlib.lines.Line2D at 0x1142b3cf8>,\n",
       "  <matplotlib.lines.Line2D at 0x1142bd198>,\n",
       "  <matplotlib.lines.Line2D at 0x1142c3c18>,\n",
       "  <matplotlib.lines.Line2D at 0x1142cb0b8>,\n",
       "  <matplotlib.lines.Line2D at 0x1142d5b38>,\n",
       "  <matplotlib.lines.Line2D at 0x1142d5f98>,\n",
       "  <matplotlib.lines.Line2D at 0x1142d0a58>,\n",
       "  <matplotlib.lines.Line2D at 0x1142d0eb8>]}"
      ]
     },
     "execution_count": 8,
     "metadata": {},
     "output_type": "execute_result"
    },
    {
     "data": {
      "image/png": "[encoded data removed]",
      "text/plain": [
       "<matplotlib.figure.Figure at 0x112c1fc88>"
      ]
     },
     "metadata": {},
     "output_type": "display_data"
    }
   ],
   "source": [
    "plt.boxplot(b)"
   ]
  },
  {
   "cell_type": "code",
   "execution_count": null,
   "metadata": {
    "collapsed": true
   },
   "outputs": [],
   "source": []
  }
 ],
 "metadata": {
  "kernelspec": {
   "display_name": "Python 3",
   "language": "python",
   "name": "python3"
  },
  "language_info": {
   "codemirror_mode": {
    "name": "ipython",
    "version": 3
   },
   "file_extension": ".py",
   "mimetype": "text/x-python",
   "name": "python",
   "nbconvert_exporter": "python",
   "pygments_lexer": "ipython3",
   "version": "3.6.1"
  }
 },
 "nbformat": 4,
 "nbformat_minor": 2
}
