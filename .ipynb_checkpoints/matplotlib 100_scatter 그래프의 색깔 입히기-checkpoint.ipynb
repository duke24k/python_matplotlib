{
 "cells": [
  {
   "cell_type": "code",
   "execution_count": 1,
   "metadata": {
    "collapsed": true
   },
   "outputs": [],
   "source": [
    "import matplotlib.pyplot as plt"
   ]
  },
  {
   "cell_type": "code",
   "execution_count": 2,
   "metadata": {
    "collapsed": true
   },
   "outputs": [],
   "source": [
    "%matplotlib inline"
   ]
  },
  {
   "cell_type": "code",
   "execution_count": 3,
   "metadata": {
    "collapsed": true
   },
   "outputs": [],
   "source": [
    "import numpy as np"
   ]
  },
  {
   "cell_type": "code",
   "execution_count": 4,
   "metadata": {
    "collapsed": true
   },
   "outputs": [],
   "source": [
    "a = np.random.standard_normal((100,2))"
   ]
  },
  {
   "cell_type": "code",
   "execution_count": 5,
   "metadata": {},
   "outputs": [
    {
     "data": {
      "text/plain": [
       "(100, 2)"
      ]
     },
     "execution_count": 5,
     "metadata": {},
     "output_type": "execute_result"
    }
   ],
   "source": [
    "a.shape"
   ]
  },
  {
   "cell_type": "markdown",
   "metadata": {},
   "source": [
    "### 분포의 중심을 변경"
   ]
  },
  {
   "cell_type": "code",
   "execution_count": 7,
   "metadata": {},
   "outputs": [],
   "source": [
    "a += np.array((-1,1))"
   ]
  },
  {
   "cell_type": "code",
   "execution_count": 8,
   "metadata": {},
   "outputs": [
    {
     "data": {
      "text/plain": [
       "(100, 2)"
      ]
     },
     "execution_count": 8,
     "metadata": {},
     "output_type": "execute_result"
    }
   ],
   "source": [
    "a.shape"
   ]
  },
  {
   "cell_type": "code",
   "execution_count": 9,
   "metadata": {
    "collapsed": true
   },
   "outputs": [],
   "source": [
    "b = np.random.standard_normal((100,2))"
   ]
  },
  {
   "cell_type": "code",
   "execution_count": 10,
   "metadata": {
    "collapsed": true
   },
   "outputs": [],
   "source": [
    "b += np.array((1,1))"
   ]
  },
  {
   "cell_type": "markdown",
   "metadata": {},
   "source": [
    "## Scatter 그래프 그리기"
   ]
  },
  {
   "cell_type": "markdown",
   "metadata": {},
   "source": [
    "### 색상도 선그래프처럼 내부에 지정된 순서로 표시된다."
   ]
  },
  {
   "cell_type": "code",
   "execution_count": 11,
   "metadata": {},
   "outputs": [
    {
     "data": {
      "text/plain": [
       "<matplotlib.collections.PathCollection at 0x10d556048>"
      ]
     },
     "execution_count": 11,
     "metadata": {},
     "output_type": "execute_result"
    },
    {
     "data": {
      "image/png": "[encoded data removed]",
      "text/plain": [
       "<matplotlib.figure.Figure at 0x10caebbe0>"
      ]
     },
     "metadata": {},
     "output_type": "display_data"
    }
   ],
   "source": [
    "plt.scatter(a[:,0], a[:,1])\n",
    "plt.scatter(b[:,0], b[:,1])"
   ]
  },
  {
   "cell_type": "code",
   "execution_count": 19,
   "metadata": {},
   "outputs": [
    {
     "name": "stdout",
     "output_type": "stream",
     "text": [
      "Iris.txt   data.txt   data1.txt\r\n"
     ]
    }
   ],
   "source": [
    "%ls *.txt"
   ]
  },
  {
   "cell_type": "code",
   "execution_count": 23,
   "metadata": {},
   "outputs": [
    {
     "ename": "ValueError",
     "evalue": "could not convert string to float: b'Iris-setosa'",
     "output_type": "error",
     "traceback": [
      "\u001b[0;31m---------------------------------------------------------------------------\u001b[0m",
      "\u001b[0;31mValueError\u001b[0m                                Traceback (most recent call last)",
      "\u001b[0;32m<ipython-input-23-def2de588259>\u001b[0m in \u001b[0;36m<module>\u001b[0;34m()\u001b[0m\n\u001b[0;32m----> 1\u001b[0;31m \u001b[0mIris\u001b[0m \u001b[0;34m=\u001b[0m \u001b[0mnp\u001b[0m\u001b[0;34m.\u001b[0m\u001b[0mloadtxt\u001b[0m\u001b[0;34m(\u001b[0m\u001b[0;34m'Iris.txt'\u001b[0m\u001b[0;34m,\u001b[0m\u001b[0mdelimiter\u001b[0m\u001b[0;34m=\u001b[0m\u001b[0;34m','\u001b[0m\u001b[0;34m)\u001b[0m\u001b[0;34m\u001b[0m\u001b[0m\n\u001b[0m",
      "\u001b[0;32m~/anaconda/lib/python3.6/site-packages/numpy/lib/npyio.py\u001b[0m in \u001b[0;36mloadtxt\u001b[0;34m(fname, dtype, comments, delimiter, converters, skiprows, usecols, unpack, ndmin)\u001b[0m\n\u001b[1;32m   1022\u001b[0m \u001b[0;34m\u001b[0m\u001b[0m\n\u001b[1;32m   1023\u001b[0m             \u001b[0;31m# Convert each value according to its column and store\u001b[0m\u001b[0;34m\u001b[0m\u001b[0;34m\u001b[0m\u001b[0m\n\u001b[0;32m-> 1024\u001b[0;31m             \u001b[0mitems\u001b[0m \u001b[0;34m=\u001b[0m \u001b[0;34m[\u001b[0m\u001b[0mconv\u001b[0m\u001b[0;34m(\u001b[0m\u001b[0mval\u001b[0m\u001b[0;34m)\u001b[0m \u001b[0;32mfor\u001b[0m \u001b[0;34m(\u001b[0m\u001b[0mconv\u001b[0m\u001b[0;34m,\u001b[0m \u001b[0mval\u001b[0m\u001b[0;34m)\u001b[0m \u001b[0;32min\u001b[0m \u001b[0mzip\u001b[0m\u001b[0;34m(\u001b[0m\u001b[0mconverters\u001b[0m\u001b[0;34m,\u001b[0m \u001b[0mvals\u001b[0m\u001b[0;34m)\u001b[0m\u001b[0;34m]\u001b[0m\u001b[0;34m\u001b[0m\u001b[0m\n\u001b[0m\u001b[1;32m   1025\u001b[0m             \u001b[0;31m# Then pack it according to the dtype's nesting\u001b[0m\u001b[0;34m\u001b[0m\u001b[0;34m\u001b[0m\u001b[0m\n\u001b[1;32m   1026\u001b[0m             \u001b[0mitems\u001b[0m \u001b[0;34m=\u001b[0m \u001b[0mpack_items\u001b[0m\u001b[0;34m(\u001b[0m\u001b[0mitems\u001b[0m\u001b[0;34m,\u001b[0m \u001b[0mpacking\u001b[0m\u001b[0;34m)\u001b[0m\u001b[0;34m\u001b[0m\u001b[0m\n",
      "\u001b[0;32m~/anaconda/lib/python3.6/site-packages/numpy/lib/npyio.py\u001b[0m in \u001b[0;36m<listcomp>\u001b[0;34m(.0)\u001b[0m\n\u001b[1;32m   1022\u001b[0m \u001b[0;34m\u001b[0m\u001b[0m\n\u001b[1;32m   1023\u001b[0m             \u001b[0;31m# Convert each value according to its column and store\u001b[0m\u001b[0;34m\u001b[0m\u001b[0;34m\u001b[0m\u001b[0m\n\u001b[0;32m-> 1024\u001b[0;31m             \u001b[0mitems\u001b[0m \u001b[0;34m=\u001b[0m \u001b[0;34m[\u001b[0m\u001b[0mconv\u001b[0m\u001b[0;34m(\u001b[0m\u001b[0mval\u001b[0m\u001b[0;34m)\u001b[0m \u001b[0;32mfor\u001b[0m \u001b[0;34m(\u001b[0m\u001b[0mconv\u001b[0m\u001b[0;34m,\u001b[0m \u001b[0mval\u001b[0m\u001b[0;34m)\u001b[0m \u001b[0;32min\u001b[0m \u001b[0mzip\u001b[0m\u001b[0;34m(\u001b[0m\u001b[0mconverters\u001b[0m\u001b[0;34m,\u001b[0m \u001b[0mvals\u001b[0m\u001b[0;34m)\u001b[0m\u001b[0;34m]\u001b[0m\u001b[0;34m\u001b[0m\u001b[0m\n\u001b[0m\u001b[1;32m   1025\u001b[0m             \u001b[0;31m# Then pack it according to the dtype's nesting\u001b[0m\u001b[0;34m\u001b[0m\u001b[0;34m\u001b[0m\u001b[0m\n\u001b[1;32m   1026\u001b[0m             \u001b[0mitems\u001b[0m \u001b[0;34m=\u001b[0m \u001b[0mpack_items\u001b[0m\u001b[0;34m(\u001b[0m\u001b[0mitems\u001b[0m\u001b[0;34m,\u001b[0m \u001b[0mpacking\u001b[0m\u001b[0;34m)\u001b[0m\u001b[0;34m\u001b[0m\u001b[0m\n",
      "\u001b[0;32m~/anaconda/lib/python3.6/site-packages/numpy/lib/npyio.py\u001b[0m in \u001b[0;36mfloatconv\u001b[0;34m(x)\u001b[0m\n\u001b[1;32m    723\u001b[0m         \u001b[0;32mif\u001b[0m \u001b[0;34mb'0x'\u001b[0m \u001b[0;32min\u001b[0m \u001b[0mx\u001b[0m\u001b[0;34m:\u001b[0m\u001b[0;34m\u001b[0m\u001b[0m\n\u001b[1;32m    724\u001b[0m             \u001b[0;32mreturn\u001b[0m \u001b[0mfloat\u001b[0m\u001b[0;34m.\u001b[0m\u001b[0mfromhex\u001b[0m\u001b[0;34m(\u001b[0m\u001b[0masstr\u001b[0m\u001b[0;34m(\u001b[0m\u001b[0mx\u001b[0m\u001b[0;34m)\u001b[0m\u001b[0;34m)\u001b[0m\u001b[0;34m\u001b[0m\u001b[0m\n\u001b[0;32m--> 725\u001b[0;31m         \u001b[0;32mreturn\u001b[0m \u001b[0mfloat\u001b[0m\u001b[0;34m(\u001b[0m\u001b[0mx\u001b[0m\u001b[0;34m)\u001b[0m\u001b[0;34m\u001b[0m\u001b[0m\n\u001b[0m\u001b[1;32m    726\u001b[0m \u001b[0;34m\u001b[0m\u001b[0m\n\u001b[1;32m    727\u001b[0m     \u001b[0mtyp\u001b[0m \u001b[0;34m=\u001b[0m \u001b[0mdtype\u001b[0m\u001b[0;34m.\u001b[0m\u001b[0mtype\u001b[0m\u001b[0;34m\u001b[0m\u001b[0m\n",
      "\u001b[0;31mValueError\u001b[0m: could not convert string to float: b'Iris-setosa'"
     ]
    }
   ],
   "source": [
    "Iris = np.loadtxt('Iris.txt',delimiter=',')"
   ]
  },
  {
   "cell_type": "code",
   "execution_count": 56,
   "metadata": {
    "collapsed": true
   },
   "outputs": [],
   "source": [
    "ab = []"
   ]
  },
  {
   "cell_type": "code",
   "execution_count": 57,
   "metadata": {
    "collapsed": true
   },
   "outputs": [],
   "source": [
    "f = open('Iris.txt','r')"
   ]
  },
  {
   "cell_type": "code",
   "execution_count": 58,
   "metadata": {},
   "outputs": [
    {
     "data": {
      "text/plain": [
       "'5.1,3.5,1.4,0.2,Iris-setosa\\n'"
      ]
     },
     "execution_count": 58,
     "metadata": {},
     "output_type": "execute_result"
    }
   ],
   "source": [
    "f.readline()"
   ]
  },
  {
   "cell_type": "code",
   "execution_count": 59,
   "metadata": {},
   "outputs": [
    {
     "name": "stdout",
     "output_type": "stream",
     "text": [
      "['4.9', '3.0', '1.4', '0.2', 'Iris-setosa\\n']\n",
      "['4.7', '3.2', '1.3', '0.2', 'Iris-setosa\\n']\n",
      "['4.6', '3.1', '1.5', '0.2', 'Iris-setosa\\n']\n",
      "['5.0', '3.6', '1.4', '0.2', 'Iris-setosa\\n']\n",
      "['5.4', '3.9', '1.7', '0.4', 'Iris-setosa\\n']\n",
      "['4.6', '3.4', '1.4', '0.3', 'Iris-setosa\\n']\n",
      "['5.0', '3.4', '1.5', '0.2', 'Iris-setosa\\n']\n",
      "['4.4', '2.9', '1.4', '0.2', 'Iris-setosa\\n']\n",
      "['4.9', '3.1', '1.5', '0.1', 'Iris-setosa\\n']\n",
      "['5.4', '3.7', '1.5', '0.2', 'Iris-setosa\\n']\n",
      "['4.8', '3.4', '1.6', '0.2', 'Iris-setosa\\n']\n",
      "['4.8', '3.0', '1.4', '0.1', 'Iris-setosa\\n']\n",
      "['4.3', '3.0', '1.1', '0.1', 'Iris-setosa\\n']\n",
      "['5.8', '4.0', '1.2', '0.2', 'Iris-setosa\\n']\n",
      "['5.7', '4.4', '1.5', '0.4', 'Iris-setosa\\n']\n",
      "['5.4', '3.9', '1.3', '0.4', 'Iris-setosa\\n']\n",
      "['5.1', '3.5', '1.4', '0.3', 'Iris-setosa\\n']\n",
      "['5.7', '3.8', '1.7', '0.3', 'Iris-setosa\\n']\n",
      "['5.1', '3.8', '1.5', '0.3', 'Iris-setosa\\n']\n",
      "['5.4', '3.4', '1.7', '0.2', 'Iris-setosa\\n']\n",
      "['5.1', '3.7', '1.5', '0.4', 'Iris-setosa\\n']\n",
      "['4.6', '3.6', '1.0', '0.2', 'Iris-setosa\\n']\n",
      "['5.1', '3.3', '1.7', '0.5', 'Iris-setosa\\n']\n",
      "['4.8', '3.4', '1.9', '0.2', 'Iris-setosa\\n']\n",
      "['5.0', '3.0', '1.6', '0.2', 'Iris-setosa\\n']\n",
      "['5.0', '3.4', '1.6', '0.4', 'Iris-setosa\\n']\n",
      "['5.2', '3.5', '1.5', '0.2', 'Iris-setosa\\n']\n",
      "['5.2', '3.4', '1.4', '0.2', 'Iris-setosa\\n']\n",
      "['4.7', '3.2', '1.6', '0.2', 'Iris-setosa\\n']\n",
      "['4.8', '3.1', '1.6', '0.2', 'Iris-setosa\\n']\n",
      "['5.4', '3.4', '1.5', '0.4', 'Iris-setosa\\n']\n",
      "['5.2', '4.1', '1.5', '0.1', 'Iris-setosa\\n']\n",
      "['5.5', '4.2', '1.4', '0.2', 'Iris-setosa\\n']\n",
      "['4.9', '3.1', '1.5', '0.1', 'Iris-setosa\\n']\n",
      "['5.0', '3.2', '1.2', '0.2', 'Iris-setosa\\n']\n",
      "['5.5', '3.5', '1.3', '0.2', 'Iris-setosa\\n']\n",
      "['4.9', '3.1', '1.5', '0.1', 'Iris-setosa\\n']\n",
      "['4.4', '3.0', '1.3', '0.2', 'Iris-setosa\\n']\n",
      "['5.1', '3.4', '1.5', '0.2', 'Iris-setosa\\n']\n",
      "['5.0', '3.5', '1.3', '0.3', 'Iris-setosa\\n']\n",
      "['4.5', '2.3', '1.3', '0.3', 'Iris-setosa\\n']\n",
      "['4.4', '3.2', '1.3', '0.2', 'Iris-setosa\\n']\n",
      "['5.0', '3.5', '1.6', '0.6', 'Iris-setosa\\n']\n",
      "['5.1', '3.8', '1.9', '0.4', 'Iris-setosa\\n']\n",
      "['4.8', '3.0', '1.4', '0.3', 'Iris-setosa\\n']\n",
      "['5.1', '3.8', '1.6', '0.2', 'Iris-setosa\\n']\n",
      "['4.6', '3.2', '1.4', '0.2', 'Iris-setosa\\n']\n",
      "['5.3', '3.7', '1.5', '0.2', 'Iris-setosa\\n']\n",
      "['5.0', '3.3', '1.4', '0.2', 'Iris-setosa\\n']\n",
      "['7.0', '3.2', '4.7', '1.4', 'Iris-versicolor\\n']\n",
      "['6.4', '3.2', '4.5', '1.5', 'Iris-versicolor\\n']\n",
      "['6.9', '3.1', '4.9', '1.5', 'Iris-versicolor\\n']\n",
      "['5.5', '2.3', '4.0', '1.3', 'Iris-versicolor\\n']\n",
      "['6.5', '2.8', '4.6', '1.5', 'Iris-versicolor\\n']\n",
      "['5.7', '2.8', '4.5', '1.3', 'Iris-versicolor\\n']\n",
      "['6.3', '3.3', '4.7', '1.6', 'Iris-versicolor\\n']\n",
      "['4.9', '2.4', '3.3', '1.0', 'Iris-versicolor\\n']\n",
      "['6.6', '2.9', '4.6', '1.3', 'Iris-versicolor\\n']\n",
      "['5.2', '2.7', '3.9', '1.4', 'Iris-versicolor\\n']\n",
      "['5.0', '2.0', '3.5', '1.0', 'Iris-versicolor\\n']\n",
      "['5.9', '3.0', '4.2', '1.5', 'Iris-versicolor\\n']\n",
      "['6.0', '2.2', '4.0', '1.0', 'Iris-versicolor\\n']\n",
      "['6.1', '2.9', '4.7', '1.4', 'Iris-versicolor\\n']\n",
      "['5.6', '2.9', '3.6', '1.3', 'Iris-versicolor\\n']\n",
      "['6.7', '3.1', '4.4', '1.4', 'Iris-versicolor\\n']\n",
      "['5.6', '3.0', '4.5', '1.5', 'Iris-versicolor\\n']\n",
      "['5.8', '2.7', '4.1', '1.0', 'Iris-versicolor\\n']\n",
      "['6.2', '2.2', '4.5', '1.5', 'Iris-versicolor\\n']\n",
      "['5.6', '2.5', '3.9', '1.1', 'Iris-versicolor\\n']\n",
      "['5.9', '3.2', '4.8', '1.8', 'Iris-versicolor\\n']\n",
      "['6.1', '2.8', '4.0', '1.3', 'Iris-versicolor\\n']\n",
      "['6.3', '2.5', '4.9', '1.5', 'Iris-versicolor\\n']\n",
      "['6.1', '2.8', '4.7', '1.2', 'Iris-versicolor\\n']\n",
      "['6.4', '2.9', '4.3', '1.3', 'Iris-versicolor\\n']\n",
      "['6.6', '3.0', '4.4', '1.4', 'Iris-versicolor\\n']\n",
      "['6.8', '2.8', '4.8', '1.4', 'Iris-versicolor\\n']\n",
      "['6.7', '3.0', '5.0', '1.7', 'Iris-versicolor\\n']\n",
      "['6.0', '2.9', '4.5', '1.5', 'Iris-versicolor\\n']\n",
      "['5.7', '2.6', '3.5', '1.0', 'Iris-versicolor\\n']\n",
      "['5.5', '2.4', '3.8', '1.1', 'Iris-versicolor\\n']\n",
      "['5.5', '2.4', '3.7', '1.0', 'Iris-versicolor\\n']\n",
      "['5.8', '2.7', '3.9', '1.2', 'Iris-versicolor\\n']\n",
      "['6.0', '2.7', '5.1', '1.6', 'Iris-versicolor\\n']\n",
      "['5.4', '3.0', '4.5', '1.5', 'Iris-versicolor\\n']\n",
      "['6.0', '3.4', '4.5', '1.6', 'Iris-versicolor\\n']\n",
      "['6.7', '3.1', '4.7', '1.5', 'Iris-versicolor\\n']\n",
      "['6.3', '2.3', '4.4', '1.3', 'Iris-versicolor\\n']\n",
      "['5.6', '3.0', '4.1', '1.3', 'Iris-versicolor\\n']\n",
      "['5.5', '2.5', '4.0', '1.3', 'Iris-versicolor\\n']\n",
      "['5.5', '2.6', '4.4', '1.2', 'Iris-versicolor\\n']\n",
      "['6.1', '3.0', '4.6', '1.4', 'Iris-versicolor\\n']\n",
      "['5.8', '2.6', '4.0', '1.2', 'Iris-versicolor\\n']\n",
      "['5.0', '2.3', '3.3', '1.0', 'Iris-versicolor\\n']\n",
      "['5.6', '2.7', '4.2', '1.3', 'Iris-versicolor\\n']\n",
      "['5.7', '3.0', '4.2', '1.2', 'Iris-versicolor\\n']\n",
      "['5.7', '2.9', '4.2', '1.3', 'Iris-versicolor\\n']\n",
      "['6.2', '2.9', '4.3', '1.3', 'Iris-versicolor\\n']\n",
      "['5.1', '2.5', '3.0', '1.1', 'Iris-versicolor\\n']\n",
      "['5.7', '2.8', '4.1', '1.3', 'Iris-versicolor\\n']\n",
      "['6.3', '3.3', '6.0', '2.5', 'Iris-virginica\\n']\n",
      "['5.8', '2.7', '5.1', '1.9', 'Iris-virginica\\n']\n",
      "['7.1', '3.0', '5.9', '2.1', 'Iris-virginica\\n']\n",
      "['6.3', '2.9', '5.6', '1.8', 'Iris-virginica\\n']\n",
      "['6.5', '3.0', '5.8', '2.2', 'Iris-virginica\\n']\n",
      "['7.6', '3.0', '6.6', '2.1', 'Iris-virginica\\n']\n",
      "['4.9', '2.5', '4.5', '1.7', 'Iris-virginica\\n']\n",
      "['7.3', '2.9', '6.3', '1.8', 'Iris-virginica\\n']\n",
      "['6.7', '2.5', '5.8', '1.8', 'Iris-virginica\\n']\n",
      "['7.2', '3.6', '6.1', '2.5', 'Iris-virginica\\n']\n",
      "['6.5', '3.2', '5.1', '2.0', 'Iris-virginica\\n']\n",
      "['6.4', '2.7', '5.3', '1.9', 'Iris-virginica\\n']\n",
      "['6.8', '3.0', '5.5', '2.1', 'Iris-virginica\\n']\n",
      "['5.7', '2.5', '5.0', '2.0', 'Iris-virginica\\n']\n",
      "['5.8', '2.8', '5.1', '2.4', 'Iris-virginica\\n']\n",
      "['6.4', '3.2', '5.3', '2.3', 'Iris-virginica\\n']\n",
      "['6.5', '3.0', '5.5', '1.8', 'Iris-virginica\\n']\n",
      "['7.7', '3.8', '6.7', '2.2', 'Iris-virginica\\n']\n",
      "['7.7', '2.6', '6.9', '2.3', 'Iris-virginica\\n']\n",
      "['6.0', '2.2', '5.0', '1.5', 'Iris-virginica\\n']\n",
      "['6.9', '3.2', '5.7', '2.3', 'Iris-virginica\\n']\n",
      "['5.6', '2.8', '4.9', '2.0', 'Iris-virginica\\n']\n",
      "['7.7', '2.8', '6.7', '2.0', 'Iris-virginica\\n']\n",
      "['6.3', '2.7', '4.9', '1.8', 'Iris-virginica\\n']\n",
      "['6.7', '3.3', '5.7', '2.1', 'Iris-virginica\\n']\n",
      "['7.2', '3.2', '6.0', '1.8', 'Iris-virginica\\n']\n",
      "['6.2', '2.8', '4.8', '1.8', 'Iris-virginica\\n']\n",
      "['6.1', '3.0', '4.9', '1.8', 'Iris-virginica\\n']\n",
      "['6.4', '2.8', '5.6', '2.1', 'Iris-virginica\\n']\n",
      "['7.2', '3.0', '5.8', '1.6', 'Iris-virginica\\n']\n",
      "['7.4', '2.8', '6.1', '1.9', 'Iris-virginica\\n']\n",
      "['7.9', '3.8', '6.4', '2.0', 'Iris-virginica\\n']\n",
      "['6.4', '2.8', '5.6', '2.2', 'Iris-virginica\\n']\n",
      "['6.3', '2.8', '5.1', '1.5', 'Iris-virginica\\n']\n",
      "['6.1', '2.6', '5.6', '1.4', 'Iris-virginica\\n']\n",
      "['7.7', '3.0', '6.1', '2.3', 'Iris-virginica\\n']\n",
      "['6.3', '3.4', '5.6', '2.4', 'Iris-virginica\\n']\n",
      "['6.4', '3.1', '5.5', '1.8', 'Iris-virginica\\n']\n",
      "['6.0', '3.0', '4.8', '1.8', 'Iris-virginica\\n']\n",
      "['6.9', '3.1', '5.4', '2.1', 'Iris-virginica\\n']\n",
      "['6.7', '3.1', '5.6', '2.4', 'Iris-virginica\\n']\n",
      "['6.9', '3.1', '5.1', '2.3', 'Iris-virginica\\n']\n",
      "['5.8', '2.7', '5.1', '1.9', 'Iris-virginica\\n']\n",
      "['6.8', '3.2', '5.9', '2.3', 'Iris-virginica\\n']\n",
      "['6.7', '3.3', '5.7', '2.5', 'Iris-virginica\\n']\n",
      "['6.7', '3.0', '5.2', '2.3', 'Iris-virginica\\n']\n",
      "['6.3', '2.5', '5.0', '1.9', 'Iris-virginica\\n']\n",
      "['6.5', '3.0', '5.2', '2.0', 'Iris-virginica\\n']\n",
      "['6.2', '3.4', '5.4', '2.3', 'Iris-virginica\\n']\n",
      "['5.9', '3.0', '5.1', '1.8', 'Iris-virginica\\n']\n"
     ]
    }
   ],
   "source": [
    "for line in f :\n",
    "    \n",
    "    s = line.split(',')\n",
    "    print(s)\n",
    "    ab.insert(0,s)"
   ]
  },
  {
   "cell_type": "code",
   "execution_count": 61,
   "metadata": {},
   "outputs": [
    {
     "data": {
      "text/plain": [
       "['5.9', '3.0', '5.1', '1.8', 'Iris-virginica\\n']"
      ]
     },
     "execution_count": 61,
     "metadata": {},
     "output_type": "execute_result"
    }
   ],
   "source": [
    "ab[0]"
   ]
  },
  {
   "cell_type": "code",
   "execution_count": 66,
   "metadata": {},
   "outputs": [],
   "source": [
    "Iris = np.array(ab)"
   ]
  },
  {
   "cell_type": "code",
   "execution_count": 67,
   "metadata": {},
   "outputs": [
    {
     "data": {
      "text/plain": [
       "array([['5.9', '3.0', '5.1', '1.8', 'Iris-virginica\\n'],\n",
       "       ['6.2', '3.4', '5.4', '2.3', 'Iris-virginica\\n'],\n",
       "       ['6.5', '3.0', '5.2', '2.0', 'Iris-virginica\\n'],\n",
       "       ['6.3', '2.5', '5.0', '1.9', 'Iris-virginica\\n'],\n",
       "       ['6.7', '3.0', '5.2', '2.3', 'Iris-virginica\\n'],\n",
       "       ['6.7', '3.3', '5.7', '2.5', 'Iris-virginica\\n'],\n",
       "       ['6.8', '3.2', '5.9', '2.3', 'Iris-virginica\\n'],\n",
       "       ['5.8', '2.7', '5.1', '1.9', 'Iris-virginica\\n'],\n",
       "       ['6.9', '3.1', '5.1', '2.3', 'Iris-virginica\\n'],\n",
       "       ['6.7', '3.1', '5.6', '2.4', 'Iris-virginica\\n'],\n",
       "       ['6.9', '3.1', '5.4', '2.1', 'Iris-virginica\\n'],\n",
       "       ['6.0', '3.0', '4.8', '1.8', 'Iris-virginica\\n'],\n",
       "       ['6.4', '3.1', '5.5', '1.8', 'Iris-virginica\\n'],\n",
       "       ['6.3', '3.4', '5.6', '2.4', 'Iris-virginica\\n'],\n",
       "       ['7.7', '3.0', '6.1', '2.3', 'Iris-virginica\\n'],\n",
       "       ['6.1', '2.6', '5.6', '1.4', 'Iris-virginica\\n'],\n",
       "       ['6.3', '2.8', '5.1', '1.5', 'Iris-virginica\\n'],\n",
       "       ['6.4', '2.8', '5.6', '2.2', 'Iris-virginica\\n'],\n",
       "       ['7.9', '3.8', '6.4', '2.0', 'Iris-virginica\\n'],\n",
       "       ['7.4', '2.8', '6.1', '1.9', 'Iris-virginica\\n'],\n",
       "       ['7.2', '3.0', '5.8', '1.6', 'Iris-virginica\\n'],\n",
       "       ['6.4', '2.8', '5.6', '2.1', 'Iris-virginica\\n'],\n",
       "       ['6.1', '3.0', '4.9', '1.8', 'Iris-virginica\\n'],\n",
       "       ['6.2', '2.8', '4.8', '1.8', 'Iris-virginica\\n'],\n",
       "       ['7.2', '3.2', '6.0', '1.8', 'Iris-virginica\\n'],\n",
       "       ['6.7', '3.3', '5.7', '2.1', 'Iris-virginica\\n'],\n",
       "       ['6.3', '2.7', '4.9', '1.8', 'Iris-virginica\\n'],\n",
       "       ['7.7', '2.8', '6.7', '2.0', 'Iris-virginica\\n'],\n",
       "       ['5.6', '2.8', '4.9', '2.0', 'Iris-virginica\\n'],\n",
       "       ['6.9', '3.2', '5.7', '2.3', 'Iris-virginica\\n'],\n",
       "       ['6.0', '2.2', '5.0', '1.5', 'Iris-virginica\\n'],\n",
       "       ['7.7', '2.6', '6.9', '2.3', 'Iris-virginica\\n'],\n",
       "       ['7.7', '3.8', '6.7', '2.2', 'Iris-virginica\\n'],\n",
       "       ['6.5', '3.0', '5.5', '1.8', 'Iris-virginica\\n'],\n",
       "       ['6.4', '3.2', '5.3', '2.3', 'Iris-virginica\\n'],\n",
       "       ['5.8', '2.8', '5.1', '2.4', 'Iris-virginica\\n'],\n",
       "       ['5.7', '2.5', '5.0', '2.0', 'Iris-virginica\\n'],\n",
       "       ['6.8', '3.0', '5.5', '2.1', 'Iris-virginica\\n'],\n",
       "       ['6.4', '2.7', '5.3', '1.9', 'Iris-virginica\\n'],\n",
       "       ['6.5', '3.2', '5.1', '2.0', 'Iris-virginica\\n'],\n",
       "       ['7.2', '3.6', '6.1', '2.5', 'Iris-virginica\\n'],\n",
       "       ['6.7', '2.5', '5.8', '1.8', 'Iris-virginica\\n'],\n",
       "       ['7.3', '2.9', '6.3', '1.8', 'Iris-virginica\\n'],\n",
       "       ['4.9', '2.5', '4.5', '1.7', 'Iris-virginica\\n'],\n",
       "       ['7.6', '3.0', '6.6', '2.1', 'Iris-virginica\\n'],\n",
       "       ['6.5', '3.0', '5.8', '2.2', 'Iris-virginica\\n'],\n",
       "       ['6.3', '2.9', '5.6', '1.8', 'Iris-virginica\\n'],\n",
       "       ['7.1', '3.0', '5.9', '2.1', 'Iris-virginica\\n'],\n",
       "       ['5.8', '2.7', '5.1', '1.9', 'Iris-virginica\\n'],\n",
       "       ['6.3', '3.3', '6.0', '2.5', 'Iris-virginica\\n'],\n",
       "       ['5.7', '2.8', '4.1', '1.3', 'Iris-versicolor\\n'],\n",
       "       ['5.1', '2.5', '3.0', '1.1', 'Iris-versicolor\\n'],\n",
       "       ['6.2', '2.9', '4.3', '1.3', 'Iris-versicolor\\n'],\n",
       "       ['5.7', '2.9', '4.2', '1.3', 'Iris-versicolor\\n'],\n",
       "       ['5.7', '3.0', '4.2', '1.2', 'Iris-versicolor\\n'],\n",
       "       ['5.6', '2.7', '4.2', '1.3', 'Iris-versicolor\\n'],\n",
       "       ['5.0', '2.3', '3.3', '1.0', 'Iris-versicolor\\n'],\n",
       "       ['5.8', '2.6', '4.0', '1.2', 'Iris-versicolor\\n'],\n",
       "       ['6.1', '3.0', '4.6', '1.4', 'Iris-versicolor\\n'],\n",
       "       ['5.5', '2.6', '4.4', '1.2', 'Iris-versicolor\\n'],\n",
       "       ['5.5', '2.5', '4.0', '1.3', 'Iris-versicolor\\n'],\n",
       "       ['5.6', '3.0', '4.1', '1.3', 'Iris-versicolor\\n'],\n",
       "       ['6.3', '2.3', '4.4', '1.3', 'Iris-versicolor\\n'],\n",
       "       ['6.7', '3.1', '4.7', '1.5', 'Iris-versicolor\\n'],\n",
       "       ['6.0', '3.4', '4.5', '1.6', 'Iris-versicolor\\n'],\n",
       "       ['5.4', '3.0', '4.5', '1.5', 'Iris-versicolor\\n'],\n",
       "       ['6.0', '2.7', '5.1', '1.6', 'Iris-versicolor\\n'],\n",
       "       ['5.8', '2.7', '3.9', '1.2', 'Iris-versicolor\\n'],\n",
       "       ['5.5', '2.4', '3.7', '1.0', 'Iris-versicolor\\n'],\n",
       "       ['5.5', '2.4', '3.8', '1.1', 'Iris-versicolor\\n'],\n",
       "       ['5.7', '2.6', '3.5', '1.0', 'Iris-versicolor\\n'],\n",
       "       ['6.0', '2.9', '4.5', '1.5', 'Iris-versicolor\\n'],\n",
       "       ['6.7', '3.0', '5.0', '1.7', 'Iris-versicolor\\n'],\n",
       "       ['6.8', '2.8', '4.8', '1.4', 'Iris-versicolor\\n'],\n",
       "       ['6.6', '3.0', '4.4', '1.4', 'Iris-versicolor\\n'],\n",
       "       ['6.4', '2.9', '4.3', '1.3', 'Iris-versicolor\\n'],\n",
       "       ['6.1', '2.8', '4.7', '1.2', 'Iris-versicolor\\n'],\n",
       "       ['6.3', '2.5', '4.9', '1.5', 'Iris-versicolor\\n'],\n",
       "       ['6.1', '2.8', '4.0', '1.3', 'Iris-versicolor\\n'],\n",
       "       ['5.9', '3.2', '4.8', '1.8', 'Iris-versicolor\\n'],\n",
       "       ['5.6', '2.5', '3.9', '1.1', 'Iris-versicolor\\n'],\n",
       "       ['6.2', '2.2', '4.5', '1.5', 'Iris-versicolor\\n'],\n",
       "       ['5.8', '2.7', '4.1', '1.0', 'Iris-versicolor\\n'],\n",
       "       ['5.6', '3.0', '4.5', '1.5', 'Iris-versicolor\\n'],\n",
       "       ['6.7', '3.1', '4.4', '1.4', 'Iris-versicolor\\n'],\n",
       "       ['5.6', '2.9', '3.6', '1.3', 'Iris-versicolor\\n'],\n",
       "       ['6.1', '2.9', '4.7', '1.4', 'Iris-versicolor\\n'],\n",
       "       ['6.0', '2.2', '4.0', '1.0', 'Iris-versicolor\\n'],\n",
       "       ['5.9', '3.0', '4.2', '1.5', 'Iris-versicolor\\n'],\n",
       "       ['5.0', '2.0', '3.5', '1.0', 'Iris-versicolor\\n'],\n",
       "       ['5.2', '2.7', '3.9', '1.4', 'Iris-versicolor\\n'],\n",
       "       ['6.6', '2.9', '4.6', '1.3', 'Iris-versicolor\\n'],\n",
       "       ['4.9', '2.4', '3.3', '1.0', 'Iris-versicolor\\n'],\n",
       "       ['6.3', '3.3', '4.7', '1.6', 'Iris-versicolor\\n'],\n",
       "       ['5.7', '2.8', '4.5', '1.3', 'Iris-versicolor\\n'],\n",
       "       ['6.5', '2.8', '4.6', '1.5', 'Iris-versicolor\\n'],\n",
       "       ['5.5', '2.3', '4.0', '1.3', 'Iris-versicolor\\n'],\n",
       "       ['6.9', '3.1', '4.9', '1.5', 'Iris-versicolor\\n'],\n",
       "       ['6.4', '3.2', '4.5', '1.5', 'Iris-versicolor\\n'],\n",
       "       ['7.0', '3.2', '4.7', '1.4', 'Iris-versicolor\\n'],\n",
       "       ['5.0', '3.3', '1.4', '0.2', 'Iris-setosa\\n'],\n",
       "       ['5.3', '3.7', '1.5', '0.2', 'Iris-setosa\\n'],\n",
       "       ['4.6', '3.2', '1.4', '0.2', 'Iris-setosa\\n'],\n",
       "       ['5.1', '3.8', '1.6', '0.2', 'Iris-setosa\\n'],\n",
       "       ['4.8', '3.0', '1.4', '0.3', 'Iris-setosa\\n'],\n",
       "       ['5.1', '3.8', '1.9', '0.4', 'Iris-setosa\\n'],\n",
       "       ['5.0', '3.5', '1.6', '0.6', 'Iris-setosa\\n'],\n",
       "       ['4.4', '3.2', '1.3', '0.2', 'Iris-setosa\\n'],\n",
       "       ['4.5', '2.3', '1.3', '0.3', 'Iris-setosa\\n'],\n",
       "       ['5.0', '3.5', '1.3', '0.3', 'Iris-setosa\\n'],\n",
       "       ['5.1', '3.4', '1.5', '0.2', 'Iris-setosa\\n'],\n",
       "       ['4.4', '3.0', '1.3', '0.2', 'Iris-setosa\\n'],\n",
       "       ['4.9', '3.1', '1.5', '0.1', 'Iris-setosa\\n'],\n",
       "       ['5.5', '3.5', '1.3', '0.2', 'Iris-setosa\\n'],\n",
       "       ['5.0', '3.2', '1.2', '0.2', 'Iris-setosa\\n'],\n",
       "       ['4.9', '3.1', '1.5', '0.1', 'Iris-setosa\\n'],\n",
       "       ['5.5', '4.2', '1.4', '0.2', 'Iris-setosa\\n'],\n",
       "       ['5.2', '4.1', '1.5', '0.1', 'Iris-setosa\\n'],\n",
       "       ['5.4', '3.4', '1.5', '0.4', 'Iris-setosa\\n'],\n",
       "       ['4.8', '3.1', '1.6', '0.2', 'Iris-setosa\\n'],\n",
       "       ['4.7', '3.2', '1.6', '0.2', 'Iris-setosa\\n'],\n",
       "       ['5.2', '3.4', '1.4', '0.2', 'Iris-setosa\\n'],\n",
       "       ['5.2', '3.5', '1.5', '0.2', 'Iris-setosa\\n'],\n",
       "       ['5.0', '3.4', '1.6', '0.4', 'Iris-setosa\\n'],\n",
       "       ['5.0', '3.0', '1.6', '0.2', 'Iris-setosa\\n'],\n",
       "       ['4.8', '3.4', '1.9', '0.2', 'Iris-setosa\\n'],\n",
       "       ['5.1', '3.3', '1.7', '0.5', 'Iris-setosa\\n'],\n",
       "       ['4.6', '3.6', '1.0', '0.2', 'Iris-setosa\\n'],\n",
       "       ['5.1', '3.7', '1.5', '0.4', 'Iris-setosa\\n'],\n",
       "       ['5.4', '3.4', '1.7', '0.2', 'Iris-setosa\\n'],\n",
       "       ['5.1', '3.8', '1.5', '0.3', 'Iris-setosa\\n'],\n",
       "       ['5.7', '3.8', '1.7', '0.3', 'Iris-setosa\\n'],\n",
       "       ['5.1', '3.5', '1.4', '0.3', 'Iris-setosa\\n'],\n",
       "       ['5.4', '3.9', '1.3', '0.4', 'Iris-setosa\\n'],\n",
       "       ['5.7', '4.4', '1.5', '0.4', 'Iris-setosa\\n'],\n",
       "       ['5.8', '4.0', '1.2', '0.2', 'Iris-setosa\\n'],\n",
       "       ['4.3', '3.0', '1.1', '0.1', 'Iris-setosa\\n'],\n",
       "       ['4.8', '3.0', '1.4', '0.1', 'Iris-setosa\\n'],\n",
       "       ['4.8', '3.4', '1.6', '0.2', 'Iris-setosa\\n'],\n",
       "       ['5.4', '3.7', '1.5', '0.2', 'Iris-setosa\\n'],\n",
       "       ['4.9', '3.1', '1.5', '0.1', 'Iris-setosa\\n'],\n",
       "       ['4.4', '2.9', '1.4', '0.2', 'Iris-setosa\\n'],\n",
       "       ['5.0', '3.4', '1.5', '0.2', 'Iris-setosa\\n'],\n",
       "       ['4.6', '3.4', '1.4', '0.3', 'Iris-setosa\\n'],\n",
       "       ['5.4', '3.9', '1.7', '0.4', 'Iris-setosa\\n'],\n",
       "       ['5.0', '3.6', '1.4', '0.2', 'Iris-setosa\\n'],\n",
       "       ['4.6', '3.1', '1.5', '0.2', 'Iris-setosa\\n'],\n",
       "       ['4.7', '3.2', '1.3', '0.2', 'Iris-setosa\\n'],\n",
       "       ['4.9', '3.0', '1.4', '0.2', 'Iris-setosa\\n']],\n",
       "      dtype='<U16')"
      ]
     },
     "execution_count": 67,
     "metadata": {},
     "output_type": "execute_result"
    }
   ],
   "source": [
    "Iris"
   ]
  },
  {
   "cell_type": "markdown",
   "metadata": {},
   "source": [
    "## 각 레이블에 따른 색상을 표시하기"
   ]
  },
  {
   "cell_type": "code",
   "execution_count": 69,
   "metadata": {
    "collapsed": true
   },
   "outputs": [],
   "source": [
    "label_set = ('Iris-setosa','Iris-versicolor', 'Iris-virginica')"
   ]
  },
  {
   "cell_type": "code",
   "execution_count": 70,
   "metadata": {
    "collapsed": true
   },
   "outputs": [],
   "source": [
    "color_set = ['b','r','k']"
   ]
  },
  {
   "cell_type": "code",
   "execution_count": 79,
   "metadata": {
    "collapsed": true
   },
   "outputs": [],
   "source": [
    "def f(label) :\n",
    "    \n",
    "    count = 0\n",
    "    for ls in label_set :\n",
    "        if (ls == label[:-1]) :\n",
    "            return count\n",
    "        count += 1"
   ]
  },
  {
   "cell_type": "code",
   "execution_count": 80,
   "metadata": {},
   "outputs": [],
   "source": [
    "color_list = [color_set[f(label)] for label in Iris[:,4]]"
   ]
  },
  {
   "cell_type": "code",
   "execution_count": 84,
   "metadata": {},
   "outputs": [
    {
     "data": {
      "text/plain": [
       "<matplotlib.collections.PathCollection at 0x10d52a320>"
      ]
     },
     "execution_count": 84,
     "metadata": {},
     "output_type": "execute_result"
    },
    {
     "data": {
      "image/png": "[encoded data removed]",
      "text/plain": [
       "<matplotlib.figure.Figure at 0x10ce660f0>"
      ]
     },
     "metadata": {},
     "output_type": "display_data"
    }
   ],
   "source": [
    "plt.scatter(Iris[:,0], Iris[:,1], color= color_list)"
   ]
  },
  {
   "cell_type": "code",
   "execution_count": null,
   "metadata": {
    "collapsed": true
   },
   "outputs": [],
   "source": []
  }
 ],
 "metadata": {
  "kernelspec": {
   "display_name": "Python 3",
   "language": "python",
   "name": "python3"
  },
  "language_info": {
   "codemirror_mode": {
    "name": "ipython",
    "version": 3
   },
   "file_extension": ".py",
   "mimetype": "text/x-python",
   "name": "python",
   "nbconvert_exporter": "python",
   "pygments_lexer": "ipython3",
   "version": "3.6.1"
  }
 },
 "nbformat": 4,
 "nbformat_minor": 2
}
